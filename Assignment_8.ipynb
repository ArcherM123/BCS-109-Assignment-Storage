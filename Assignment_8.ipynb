{
  "nbformat": 4,
  "nbformat_minor": 0,
  "metadata": {
    "colab": {
      "name": "Assignment 8",
      "provenance": [],
      "collapsed_sections": [],
      "authorship_tag": "ABX9TyP/WazNjClTT3pv43d2eOK4",
      "include_colab_link": true
    },
    "kernelspec": {
      "name": "python3",
      "display_name": "Python 3"
    },
    "language_info": {
      "name": "python"
    }
  },
  "cells": [
    {
      "cell_type": "markdown",
      "metadata": {
        "id": "view-in-github",
        "colab_type": "text"
      },
      "source": [
        "<a href=\"https://colab.research.google.com/github/ArcherM123/BCS-109-Assignment-Storage/blob/main/Assignment_8.ipynb\" target=\"_parent\"><img src=\"https://colab.research.google.com/assets/colab-badge.svg\" alt=\"Open In Colab\"/></a>"
      ]
    },
    {
      "cell_type": "code",
      "source": [
        "#finding the average of two numbers\n",
        "\n",
        "def isAverage(num1, num2):\n",
        "  avg = (num1 + num2) / 2 \n",
        "  return avg\n",
        "\n",
        "num1 = float(input('enter number here\\t'))\n",
        "num2 = float(input('enter number here\\t'))\n",
        "\n",
        "average = isAverage(num1, num2)\n",
        "print(average)"
      ],
      "metadata": {
        "id": "ZTjz0qPWh3Js"
      },
      "execution_count": null,
      "outputs": []
    },
    {
      "cell_type": "code",
      "source": [
        "#finding the sum between two numbers\n",
        "\n",
        "def isSumbetween(num1,num2):\n",
        "  nums_between = range(num1,num2 +1)\n",
        "  return sum(nums_between)\n",
        "\n",
        "\n",
        "num1 = int(input('enter number here\\t'))\n",
        "num2 = int(input('enter number here\\t'))\n",
        "print(isSumbetween(num1 , num2))"
      ],
      "metadata": {
        "id": "CQfAymPbpvXh"
      },
      "execution_count": null,
      "outputs": []
    },
    {
      "cell_type": "code",
      "source": [
        "#finding the total cost of an item\n",
        "\n",
        "def isDiscount(number):\n",
        "  discounted_Price = price * .2\n",
        "  return\n",
        "\n",
        "def isSalestax(number):\n",
        "  tax_applied = price * .08\n",
        "  return\n",
        "\n",
        "def isTotalprice(number):\n",
        "  totalprice = (price - discounted_Price - tax_applied)\n",
        "  print(totalprice)\n",
        "  return\n",
        "\n",
        "price = float(input('enter price of item here\\t'))\n"
      ],
      "metadata": {
        "id": "z1fU0knF7AgM"
      },
      "execution_count": null,
      "outputs": []
    },
    {
      "cell_type": "code",
      "execution_count": null,
      "metadata": {
        "id": "WS7nrgUAeKA2"
      },
      "outputs": [],
      "source": [
        "#list of primes below some\n",
        "\n",
        "def isPrime(number):\n",
        "  for i in range(2,number):\n",
        "    if(number%i == 0):\n",
        "      return False\n",
        "  return True\n",
        "\n",
        "def listPrimes(number):\n",
        "   for i in range(2,number+1):\n",
        "     if(isPrime(i)):\n",
        "       print(i, end=\" | \")\n",
        "\n",
        "      \n",
        "listPrimes(100)  "
      ]
    },
    {
      "cell_type": "code",
      "source": [
        "#list of coprimes\n",
        "def isCoprime(a,b):\n",
        "  if(a > b):\n",
        "    holder = a\n",
        "    a = b \n",
        "    b = holder\n",
        "\n",
        "  for i in range(2,a+1):\n",
        "    if(a%i == 0 and b%i ==0):\n",
        "      return False\n",
        "  return True\n",
        "\n",
        "def listCoprime(number):\n",
        "  for i in range(1,number):\n",
        "    if(isCoprime(i, number)):\n",
        "      print(i, end= \" \")\n",
        "\n",
        "listCoprime(12)"
      ],
      "metadata": {
        "id": "zxqoIv7kf8xh",
        "colab": {
          "base_uri": "https://localhost:8080/"
        },
        "outputId": "549f15d6-a8f0-4578-9397-33aba29f9bec"
      },
      "execution_count": 41,
      "outputs": [
        {
          "output_type": "stream",
          "name": "stdout",
          "text": [
            "1 5 7 11 "
          ]
        }
      ]
    },
    {
      "cell_type": "code",
      "source": [
        "#list twin prime\n",
        "\n",
        "def isTwinPrime(s):\n",
        "  if(isPrime(s) and isPrime(s+2)):\n",
        "    return False\n",
        "  return True\n",
        "\n",
        "def listTwinPrimes(number):\n",
        "  for i in range(2,number+1):\n",
        "    if(isTwinPrime(i)):\n",
        "      print(i, end= \" \")\n",
        "\n",
        "listTwinPrimes(100)"
      ],
      "metadata": {
        "id": "UHLePbJ7oxJS"
      },
      "execution_count": null,
      "outputs": []
    },
    {
      "cell_type": "code",
      "source": [
        "#testing rock, paper, scissors\n",
        "import random as rand\n",
        "\n",
        "rock = paper = scissors = 0\n",
        "for i in range(10000):\n",
        "  playerOne = rnd.randint(1,3)\n",
        "  playerTwo = rnd.randint(1,3)\n",
        "\n",
        "  if((playerOne == 1 and playerTwo == 3) or (playerTwo ==1 and playerOne ==3)):\n",
        "    rock = rock +1\n",
        "  elif((playerOne ==2 and playerTwo ==1) or (playerTwo ==2 and playerOne ==1)):\n",
        "    paper = paper+1\n",
        "  elif((playerOne ==3 and playerTwo ==1) or (playerTwo == 3 and playerOne==1)):\n",
        "    print(i, end= \" \")\n",
        "\n",
        "rock = 10000/10000\n",
        "paper = 10000/10000\n",
        "scissors = 10000/10000\n",
        "\n"
      ],
      "metadata": {
        "id": "zjglh3sdsRXN"
      },
      "execution_count": 10,
      "outputs": []
    },
    {
      "cell_type": "code",
      "source": [
        "#Monty Hall Problem\n",
        "import random as rnd\n",
        "\n",
        "def noChange():\n",
        "  #set 1 and 2 to a goat and 3 to a prize\n",
        "  myList = [1,2,3]\n",
        "  rnd.shuffle(myList)\n",
        "\n",
        "  #set up the goats and prize\n",
        "  doors = ['goat', 'goat', 'goat']\n",
        "  doors[myList.index(3)] = 'prize'\n",
        "  \n",
        "  if doors[0] == 'prize':\n",
        "    return True\n",
        "  else:\n",
        "    return False\n",
        "\n",
        "def measureNoChange():\n",
        "  total = 0\n",
        "  for i in range(100000):\n",
        "    if(noChange()):\n",
        "      total = total +1\n",
        "  print(total/100000)\n",
        "\n",
        "measureNoChange()\n",
        "\n",
        "\n",
        "\n",
        "\n",
        "def yesChange():\n",
        "  #set 1 and 2 to a goat and 3 to a prize\n",
        "  myList = [1,2,3]\n",
        "  rnd.shuffle(myList)\n",
        "\n",
        "  #set up the goats and prize\n",
        "  doors = ['goat', 'goat', 'goat']\n",
        "  doors[myList.index(3)] = 'prize'\n",
        "\n",
        "  #let the user choose a door\n",
        "  choice = 0\n",
        "\n",
        "  #create the sublist\n",
        "  toShow = doors[1:3]\n",
        "  door_to_show = toShow.index('goat')\n",
        "\n",
        "  if(door_to_show == 0):\n",
        "    if(doors[2] == 'prize'):\n",
        "      return True\n",
        "    else:\n",
        "      return False\n",
        "  elif(door_to_show == 1):\n",
        "    if(doors[1] == 'prize'):\n",
        "      return True\n",
        "    else:\n",
        "      return False\n",
        "\n",
        "def measureChange():\n",
        "  total = 0\n",
        "  for i in range(100000):\n",
        "    if(yesChange()):\n",
        "      total = total +1\n",
        "  print(total/100000)\n",
        "\n",
        "measureChange()"
      ],
      "metadata": {
        "id": "5lSC6QKtgFmT"
      },
      "execution_count": null,
      "outputs": []
    }
  ]
}