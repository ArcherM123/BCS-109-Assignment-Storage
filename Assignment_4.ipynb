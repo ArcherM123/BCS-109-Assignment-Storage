{
  "nbformat": 4,
  "nbformat_minor": 0,
  "metadata": {
    "colab": {
      "name": "Assignment 4",
      "provenance": [],
      "collapsed_sections": [],
      "authorship_tag": "ABX9TyMX4jaISiU+aFAPU2TawQQ/",
      "include_colab_link": true
    },
    "kernelspec": {
      "name": "python3",
      "display_name": "Python 3"
    },
    "language_info": {
      "name": "python"
    }
  },
  "cells": [
    {
      "cell_type": "markdown",
      "metadata": {
        "id": "view-in-github",
        "colab_type": "text"
      },
      "source": [
        "<a href=\"https://colab.research.google.com/github/ArcherM123/BCS-109-Assignment-Storage/blob/main/Assignment_4.ipynb\" target=\"_parent\"><img src=\"https://colab.research.google.com/assets/colab-badge.svg\" alt=\"Open In Colab\"/></a>"
      ]
    },
    {
      "cell_type": "code",
      "source": [
        "quantity = int(input(\"Enter number of purchases here\\t\"))\n",
        "price = 99\n",
        "\n",
        "if(quantity >9 and quantity <20):\n",
        "  price= 99 - 9.9\n",
        "elif(quantity > 20 and quantity < 50):\n",
        "  price= 99 - 19.8\n",
        "elif(quantity > 50 and quantity < 100 ):\n",
        "  price= 99 - 29.7\n",
        "elif(quantity > 100):\n",
        "  price= 99 - 39.6\n",
        "print(\"Here is your price\\t\", price)"
      ],
      "metadata": {
        "colab": {
          "base_uri": "https://localhost:8080/"
        },
        "id": "vHCaydMv-NV0",
        "outputId": "f661ffba-7d1a-4dfd-9557-815aa81f4840"
      },
      "execution_count": 13,
      "outputs": [
        {
          "output_type": "stream",
          "name": "stdout",
          "text": [
            "Enter number of purchases here\t99\n",
            "Here is your price\t 69.3\n"
          ]
        }
      ]
    },
    {
      "cell_type": "code",
      "source": [
        "weight = 0\n",
        "rate = 0\n",
        "\n",
        "weight = float(input(\"Enter number here\\t\"))\n",
        "\n",
        "if(weight <=2):\n",
        "  rate = 1.5\n",
        "elif(weight >2 and weight <6):\n",
        "  rate = 3\n",
        "elif(weight >6 and weight <=10):\n",
        "  rate = 4\n",
        "elif(weight >10):\n",
        "  rate = 4.75\n",
        "print(\"Here is rate for your item\",rate)"
      ],
      "metadata": {
        "colab": {
          "base_uri": "https://localhost:8080/"
        },
        "id": "Tj3-dPdHZg-l",
        "outputId": "4c094e1a-0a62-4047-ac61-836e862d9ed6"
      },
      "execution_count": 4,
      "outputs": [
        {
          "output_type": "stream",
          "name": "stdout",
          "text": [
            "Enter number here\t10\n",
            "Here is rate for your item 4\n"
          ]
        }
      ]
    }
  ]
}