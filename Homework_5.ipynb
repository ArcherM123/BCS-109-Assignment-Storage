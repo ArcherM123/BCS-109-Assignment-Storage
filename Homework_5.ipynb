{
  "nbformat": 4,
  "nbformat_minor": 0,
  "metadata": {
    "colab": {
      "name": "Homework #5",
      "provenance": [],
      "collapsed_sections": [],
      "authorship_tag": "ABX9TyN+MCVrmlU4UArsGrVuJG4P",
      "include_colab_link": true
    },
    "kernelspec": {
      "name": "python3",
      "display_name": "Python 3"
    },
    "language_info": {
      "name": "python"
    }
  },
  "cells": [
    {
      "cell_type": "markdown",
      "metadata": {
        "id": "view-in-github",
        "colab_type": "text"
      },
      "source": [
        "<a href=\"https://colab.research.google.com/github/ArcherM123/BCS-109-Assignment-Storage/blob/main/Homework_5.ipynb\" target=\"_parent\"><img src=\"https://colab.research.google.com/assets/colab-badge.svg\" alt=\"Open In Colab\"/></a>"
      ]
    },
    {
      "cell_type": "code",
      "execution_count": null,
      "metadata": {
        "id": "ulTKjcBatDlm"
      },
      "outputs": [],
      "source": [
        "age = input(\"Please enter your age as a number\\t\")\n",
        "while not(age.isdigit()):\n",
        "  age = input(\"Please enter your age as a number\\t\")\n",
        "\n",
        "age = int(age)\n",
        "\n",
        "name = input(\"Please give me your name\\t\")\n",
        "while not(name.isalpha()):\n",
        "  name = input(\"Please give me your name\\t\")\n",
        "  \n",
        "print(\"Acceptable\")"
      ]
    },
    {
      "cell_type": "code",
      "source": [
        "for x in range(1,1001):\n",
        "  val = x\n",
        "  check = 0 \n",
        "  while val != 0:\n",
        "    check = val % 10\n",
        "    if(check == 3):\n",
        "      print(x, end=\" | \")\n",
        "      break\n",
        "    val = val //10"
      ],
      "metadata": {
        "id": "cVFMI1rVyhk7"
      },
      "execution_count": null,
      "outputs": []
    },
    {
      "cell_type": "code",
      "source": [
        "for x in range(1,100001):\n",
        "  total = 0\n",
        "  holder = x\n",
        "\n",
        "  while(holder >0):\n",
        "    total += holder%10\n",
        "    holder = holder//10\n",
        "\n",
        "    if(total == 17):\n",
        "      print(x, end=\" \")"
      ],
      "metadata": {
        "id": "ljQKEcdDzzf4"
      },
      "execution_count": null,
      "outputs": []
    },
    {
      "cell_type": "code",
      "source": [
        "for i in range(1,10000):\n",
        "\n",
        "  total = 0\n",
        "  hasThree = False\n",
        "  holder = x =i\n",
        "\n",
        "  while (holder >0):\n",
        "    if(holder%10 ==3):\n",
        "      hasThree = True\n",
        "      break\n",
        "    holder = holder // 10\n",
        "  \n",
        "  while(hasThree and x >0):\n",
        "    total += x%10\n",
        "    x = x//10\n",
        "\n",
        "  if(total==23):\n",
        "   print(i,end=\" \")\n",
        " \n"
      ],
      "metadata": {
        "id": "XZzad9cr0zKW"
      },
      "execution_count": null,
      "outputs": []
    },
    {
      "cell_type": "code",
      "source": [
        "for i in range(100,0,-1):\n",
        "  print(i, end=\" | \")"
      ],
      "metadata": {
        "id": "unk3hngE3g6q"
      },
      "execution_count": null,
      "outputs": []
    },
    {
      "cell_type": "code",
      "source": [
        "\n",
        "for i in range(100,1001):\n",
        "  IsPrime = True\n",
        "\n",
        "  start = 2\n",
        "  while(start < i):\n",
        "    if(i % start == 0):\n",
        "      IsPrime = False\n",
        "      break\n",
        "    start += 1\n",
        "\n",
        "  if(IsPrime):\n",
        "   print(i,end= \" | \")"
      ],
      "metadata": {
        "id": "untfApIx4Cuy"
      },
      "execution_count": null,
      "outputs": []
    }
  ]
}