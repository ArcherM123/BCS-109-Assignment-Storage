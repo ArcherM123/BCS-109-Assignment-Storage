{
  "nbformat": 4,
  "nbformat_minor": 0,
  "metadata": {
    "colab": {
      "name": "Final Project Proposal",
      "provenance": [],
      "collapsed_sections": [],
      "authorship_tag": "ABX9TyMakqbKS9N+Poy6HJc43rtu",
      "include_colab_link": true
    },
    "kernelspec": {
      "name": "python3",
      "display_name": "Python 3"
    },
    "language_info": {
      "name": "python"
    }
  },
  "cells": [
    {
      "cell_type": "markdown",
      "metadata": {
        "id": "view-in-github",
        "colab_type": "text"
      },
      "source": [
        "<a href=\"https://colab.research.google.com/github/ArcherM123/BCS-109-Assignment-Storage/blob/main/Final_Project_Proposal.ipynb\" target=\"_parent\"><img src=\"https://colab.research.google.com/assets/colab-badge.svg\" alt=\"Open In Colab\"/></a>"
      ]
    },
    {
      "cell_type": "markdown",
      "source": [
        ""
      ],
      "metadata": {
        "id": "SCpEqKVHYw7q"
      }
    },
    {
      "cell_type": "markdown",
      "source": [
        "Malik Archer\n",
        "Prof. Fried\n",
        "BCS-109\n",
        "5/17/2022\n",
        "\n",
        "\n",
        "\n",
        "Are you aware that Pokémon has been the #1 grossing franchise on Earth for 20 years straight, having a massive following that has shown support for all of its products and merchandise which includes video games, trading cards, movies, a long running animated series which has been on air for almost 30 years, as well as a hit mobile game that made waves around the world? So as massive Pokémon fan myself who has and still does play the games, and loves to trade and battle Pokémon with all my friends and family, it struck me that despite my deep love for the game and to compete in it, I have never taken a more analytical perspective towards the game. Hence, I decided I would by trying to discover more about competitive aspect of the game by trying to uncover which Pokémon are statically the and which ones are the weakest. So, by using a reliable database that can be found on Kaggle, I will use the many tools provided by Python to reach my conclusion. I will try to achieve this by using multiple tools, models and figures find my answer such as lists, histograms, scattergrams, charts and bar graphs. \n",
        "\n"
      ],
      "metadata": {
        "id": "-PK2RxT3Yw-H"
      }
    }
  ]
}