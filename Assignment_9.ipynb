{
  "nbformat": 4,
  "nbformat_minor": 0,
  "metadata": {
    "colab": {
      "name": "Assignment 9",
      "provenance": [],
      "collapsed_sections": [],
      "authorship_tag": "ABX9TyP69sxs5eX+4kT4BxGlOZeJ",
      "include_colab_link": true
    },
    "kernelspec": {
      "name": "python3",
      "display_name": "Python 3"
    },
    "language_info": {
      "name": "python"
    }
  },
  "cells": [
    {
      "cell_type": "markdown",
      "metadata": {
        "id": "view-in-github",
        "colab_type": "text"
      },
      "source": [
        "<a href=\"https://colab.research.google.com/github/ArcherM123/BCS-109-Assignment-Storage/blob/main/Assignment_9.ipynb\" target=\"_parent\"><img src=\"https://colab.research.google.com/assets/colab-badge.svg\" alt=\"Open In Colab\"/></a>"
      ]
    },
    {
      "cell_type": "code",
      "source": [
        "import numpy as np\n",
        "\n",
        "def theMax(numbers):\n",
        "  my_max = numbers[0]\n",
        "  for i in numbers:\n",
        "    if my_max < i:\n",
        "      my_max = i\n",
        "  return my_max\n",
        "\n",
        "def theMin(numbers):\n",
        "  my_min = numbers[0]\n",
        "  for i in numbers:\n",
        "    if my_min < i:\n",
        "      my_min = i\n",
        "  return my_min\n",
        "\n",
        "def theAverage(numbers):\n",
        "  total = 0\n",
        "  for i in numbers:\n",
        "    total += 1\n",
        "  return total/len(numbers)\n",
        "\n",
        "def theGeoAverage(numbers):\n",
        "  total = 1\n",
        "  for i in numbers:\n",
        "    total += i\n",
        "  return total**(1/len(numbers))\n",
        "\n",
        "def stdDeviation(numbers):\n",
        "  theAvg = theAverage(numbers)\n",
        "  total = 0\n",
        "  for i in numbers:\n",
        "    total = total + (i-theAvg)**2\n",
        "    return m.sqrt(total/(len(numbers)-1))"
      ],
      "metadata": {
        "id": "R2g-R6XZoDpY"
      },
      "execution_count": null,
      "outputs": []
    },
    {
      "cell_type": "code",
      "source": [
        "def circleArea(radius):\n",
        "  return m.pi*radius**2\n",
        "\n",
        "def rectangleArea(length,width):\n",
        "  return length * width\n",
        "\n",
        "def squareArea(side):\n",
        "  return side * side\n",
        "\n",
        "def triangleArea(base,height):\n",
        "  return base * height/2\n",
        "\n",
        "def generalArea():\n",
        "  value = input(\"Which would you like to know the area of [circle, square, rectangle, triangle]\")\n",
        "  if value is circle:\n",
        "    radius = float(input(\"What is the radius\"))\n",
        "    print(f)"
      ],
      "metadata": {
        "id": "XB0dtxJuub3x"
      },
      "execution_count": null,
      "outputs": []
    },
    {
      "cell_type": "code",
      "source": [
        "def listDoubling():\n",
        "  x = [1,2,3]\n",
        "  y = [1,2,3]\n",
        "  choice = int(input(\"would you like it doubled way one (1) or way two (2)\"))\n",
        "  if choice == 1:\n",
        "    print(x+y)\n",
        "  else:\n",
        "    print(np.array(x)+ np.array(y))\n",
        "\n",
        "listDoubling()"
      ],
      "metadata": {
        "id": "MrKkbeduwkYO"
      },
      "execution_count": null,
      "outputs": []
    },
    {
      "cell_type": "code",
      "source": [
        "def concatenatePositions(list1,list2):\n",
        "  myBiglist = []\n",
        "  for i in range(len(list1)):\n",
        "    myBiglist.append(float(str(list1[i] +list2[i])))\n",
        "  return myBiglist\n",
        "\n",
        "list1 = [1,2,3]\n",
        "list2 = [7,8,9]\n",
        "bigList = concatenatePositions(list1,list2)\n",
        "print(bigList)"
      ],
      "metadata": {
        "colab": {
          "base_uri": "https://localhost:8080/"
        },
        "id": "IogkMYc1xzfG",
        "outputId": "dbd5ea74-aa5f-4787-96fa-b9025a2cfe8f"
      },
      "execution_count": null,
      "outputs": [
        {
          "output_type": "stream",
          "name": "stdout",
          "text": [
            "[8.0, 10.0, 12.0]\n"
          ]
        }
      ]
    },
    {
      "cell_type": "code",
      "source": [
        "def isPrime(num):\n",
        "  for i in range(2,num):\n",
        "    if (num%i == 0):\n",
        "      return False\n",
        "  return True\n",
        "\n",
        "def listPrimes(amount):\n",
        "  myList =[]\n",
        "  count = 0\n",
        "  checkval = 2\n",
        "  while (count < amount):\n",
        "    if(isPrime(checkval)):\n",
        "      myList.append(checkval)\n",
        "      count += 1\n",
        "    checkval +=1\n",
        "  return myList\n",
        "\n",
        "print(listPrimes(100))\n"
      ],
      "metadata": {
        "colab": {
          "base_uri": "https://localhost:8080/"
        },
        "id": "hhO4tg7Lz17h",
        "outputId": "b7bfc511-8037-4ea1-bfe1-eee94d6be4c4"
      },
      "execution_count": null,
      "outputs": [
        {
          "output_type": "stream",
          "name": "stdout",
          "text": [
            "[2, 3, 5, 7, 11, 13, 17, 19, 23, 29, 31, 37, 41, 43, 47, 53, 59, 61, 67, 71, 73, 79, 83, 89, 97, 101, 103, 107, 109, 113, 127, 131, 137, 139, 149, 151, 157, 163, 167, 173, 179, 181, 191, 193, 197, 199, 211, 223, 227, 229, 233, 239, 241, 251, 257, 263, 269, 271, 277, 281, 283, 293, 307, 311, 313, 317, 331, 337, 347, 349, 353, 359, 367, 373, 379, 383, 389, 397, 401, 409, 419, 421, 431, 433, 439, 443, 449, 457, 461, 463, 467, 479, 487, 491, 499, 503, 509, 521, 523, 541]\n"
          ]
        }
      ]
    },
    {
      "cell_type": "code",
      "source": [
        "myList = []\n",
        "for i in range(1000):\n",
        "  if(i%3 == 0) or (i%5 == 0):\n",
        "    myList.append(i)\n",
        "\n",
        "total = 0 \n",
        "for i in myList:\n",
        "  total = total + i\n",
        "\n",
        "print(total)"
      ],
      "metadata": {
        "id": "gkDeFOEi2NkO"
      },
      "execution_count": null,
      "outputs": []
    },
    {
      "cell_type": "code",
      "source": [
        "def calculation(one, two):\n",
        "  return one*two,one/two\n",
        "\n",
        "myval = calculation(9,2)\n",
        "print(myval[0])\n",
        "print(myval[1])"
      ],
      "metadata": {
        "id": "oOkWTLfs1W9A"
      },
      "execution_count": null,
      "outputs": []
    },
    {
      "cell_type": "code",
      "source": [
        "bound = 500\n",
        "numOne = 1\n",
        "numTwo = 2\n",
        "numThree = numOne + numTwo\n",
        "total = 0\n",
        "\n",
        "while numTwo < bound:\n",
        "  numThree = numOne + numTwo\n",
        "  if numThree%2 == 0 and numThree < bound:\n",
        "    total += numThree\n",
        "  numOne = numTwo\n",
        "  numTwo = numThree\n",
        "  \n",
        "\n",
        "\n",
        "print(total)"
      ],
      "metadata": {
        "id": "zYPv8-133Bzc"
      },
      "execution_count": null,
      "outputs": []
    }
  ]
}