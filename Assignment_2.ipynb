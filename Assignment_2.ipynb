{
  "nbformat": 4,
  "nbformat_minor": 0,
  "metadata": {
    "colab": {
      "name": "Assignment 2",
      "provenance": [],
      "collapsed_sections": [],
      "authorship_tag": "ABX9TyP2qTusdgNT6M29ZhoBwGwG",
      "include_colab_link": true
    },
    "kernelspec": {
      "name": "python3",
      "display_name": "Python 3"
    },
    "language_info": {
      "name": "python"
    }
  },
  "cells": [
    {
      "cell_type": "markdown",
      "metadata": {
        "id": "view-in-github",
        "colab_type": "text"
      },
      "source": [
        "<a href=\"https://colab.research.google.com/github/ArcherM123/BCS-109-Assignment-Storage/blob/main/Assignment_2.ipynb\" target=\"_parent\"><img src=\"https://colab.research.google.com/assets/colab-badge.svg\" alt=\"Open In Colab\"/></a>"
      ]
    },
    {
      "cell_type": "markdown",
      "source": [
        "#**Hello My Name is Malik Archer**#\n",
        "\n",
        "**since I'm introducing myself allow me to list some interesting things about myself** \n",
        "\n",
        "\n",
        "1.   First is that I love video games, with my favorite video game series is *Pokemon*.\n",
        "2.   Second is I like all New York sports teams my favorites being the *Yankees* and the *Knicks*.\n",
        "\n",
        "\n",
        "\n"
      ],
      "metadata": {
        "id": "1t_ZSEAh1owC"
      }
    }
  ]
}