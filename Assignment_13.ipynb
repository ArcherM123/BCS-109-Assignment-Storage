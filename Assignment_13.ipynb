{
  "nbformat": 4,
  "nbformat_minor": 0,
  "metadata": {
    "colab": {
      "name": "Assignment 13",
      "provenance": [],
      "collapsed_sections": [],
      "authorship_tag": "ABX9TyN0sOh8zcgZOz02tugUT49Y",
      "include_colab_link": true
    },
    "kernelspec": {
      "name": "python3",
      "display_name": "Python 3"
    },
    "language_info": {
      "name": "python"
    }
  },
  "cells": [
    {
      "cell_type": "markdown",
      "metadata": {
        "id": "view-in-github",
        "colab_type": "text"
      },
      "source": [
        "<a href=\"https://colab.research.google.com/github/ArcherM123/BCS-109-Assignment-Storage/blob/main/Assignment_13.ipynb\" target=\"_parent\"><img src=\"https://colab.research.google.com/assets/colab-badge.svg\" alt=\"Open In Colab\"/></a>"
      ]
    },
    {
      "cell_type": "markdown",
      "source": [
        "accuracy is how close the presented value is to the true value. precision is how close the presented values are to each other. recall is used to determine how close each presented value is in comparison to other values. The strengths and weaknesses of accuracy, precision, and recall are that, accuracy is best used when trying to determine whether or not the presented value is equal to the true value, while precision is best used trying to find a particular value among multiple presented values, and recall is best used when trying to determine how many values are equal to the true value in comparison to the total number of values. "
      ],
      "metadata": {
        "id": "0hKiexUc23KS"
      }
    },
    {
      "cell_type": "markdown",
      "source": [
        "A confusion matrix is a table that is often used to describe the performance of a classification model on a set of test data for which the true values are known."
      ],
      "metadata": {
        "id": "3FuDcBQS-bhk"
      }
    },
    {
      "cell_type": "code",
      "source": [
        "from sklearn.metrics import accuracy_score, f1_score, precision_score, recall_score\n",
        "y_pred = classifier.predict(X_test)\n",
        "accuracy = accuracy_score(y_test, y_pred)\n",
        "print (accuracy)\n",
        "precision = precision_score(y_test, y_pred, average='macro')\n",
        "print (precision)\n",
        "recall = recall_score(y_test, y_pred, average='macro')\n",
        "print(recall)\n",
        "f1 = f1_score(y_test, y_pred, average='macro')\n",
        "print(f1)"
      ],
      "metadata": {
        "id": "aLHxc3PuCxw2"
      },
      "execution_count": null,
      "outputs": []
    },
    {
      "cell_type": "markdown",
      "source": [
        "Type I error (false positive): the test result says you have coronavirus, but you actually don't. Type II error (false negative): the test result says you don't have coronavirus, but you actually do."
      ],
      "metadata": {
        "id": "Zgx2868vCy-s"
      }
    },
    {
      "cell_type": "markdown",
      "source": [
        "We need to split a dataset into train and test sets to evaluate how well our machine learning model performs. Splitting your dataset is essential for an unbiased evaluation of prediction performance."
      ],
      "metadata": {
        "id": "VnEzVChUDThQ"
      }
    },
    {
      "cell_type": "markdown",
      "source": [
        "Bias is the simplifying assumptions made by the model to make the target function easier to approximate. Variance is the amount that the estimate of the target function will change given different training data. Trade-off is tension between the error introduced by the bias and the variance."
      ],
      "metadata": {
        "id": "nrbOHe8JDoPL"
      }
    }
  ]
}