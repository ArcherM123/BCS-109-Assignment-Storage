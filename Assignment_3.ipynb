{
  "nbformat": 4,
  "nbformat_minor": 0,
  "metadata": {
    "colab": {
      "name": "Assignment 3",
      "provenance": [],
      "collapsed_sections": [],
      "authorship_tag": "ABX9TyPsKI1Z17KdTGG6Arup/Nge",
      "include_colab_link": true
    },
    "kernelspec": {
      "name": "python3",
      "display_name": "Python 3"
    },
    "language_info": {
      "name": "python"
    }
  },
  "cells": [
    {
      "cell_type": "markdown",
      "metadata": {
        "id": "view-in-github",
        "colab_type": "text"
      },
      "source": [
        "<a href=\"https://colab.research.google.com/github/ArcherM123/BCS-109-Assignment-Storage/blob/main/Assignment_3.ipynb\" target=\"_parent\"><img src=\"https://colab.research.google.com/assets/colab-badge.svg\" alt=\"Open In Colab\"/></a>"
      ]
    },
    {
      "cell_type": "markdown",
      "source": [
        "The purpose of this program is to able to the find the **Present Value** and **Future Value** of investments using the information given."
      ],
      "metadata": {
        "id": "0zzRPBP9o4Yh"
      }
    },
    {
      "cell_type": "code",
      "execution_count": null,
      "metadata": {
        "id": "5d3Yrj-Yk7Or"
      },
      "outputs": [],
      "source": [
        "#gather information here\n",
        "\n",
        "future_value = float(input('Enter the desired future value\\t'))\n",
        "rate = float(input('Enter the annual interest rate\\t'))\n",
        "years = int(input('Enter the number of years the investment will grow\\t'))\n",
        "\n",
        "#solve for present_value here\n",
        "\n",
        "present_value = future_value / (1.0 + rate)**years\n",
        "\n",
        "#display output here \n",
        "\n",
        "print('You will need to deposit this amount', present_value)"
      ]
    },
    {
      "cell_type": "code",
      "source": [
        "#gather information here\n",
        "\n",
        "present_value = float(input('Enter value here\\t'))\n",
        "rate = float(input('Enter rate here\\t'))\n",
        "years = int(input('Enter # of years here\\t'))\n",
        "\n",
        "#solve for future value here\n",
        "\n",
        "future_value = present_value * (1.0 + rate)**years\n",
        "\n",
        "#display output here\n",
        "\n",
        "print(future_value)"
      ],
      "metadata": {
        "colab": {
          "base_uri": "https://localhost:8080/"
        },
        "id": "Wqeb2QNGtzF1",
        "outputId": "12eca931-5264-4fc6-ed3d-77e332833f73"
      },
      "execution_count": 30,
      "outputs": [
        {
          "output_type": "stream",
          "name": "stdout",
          "text": [
            "Enter value here\t100\n",
            "Enter rate here\t.025\n",
            "Enter # of years here\t10\n",
            "128.00845441963565\n"
          ]
        }
      ]
    }
  ]
}